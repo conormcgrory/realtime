{
 "cells": [
  {
   "cell_type": "markdown",
   "metadata": {},
   "source": [
    "# C prototype \n",
    "\n",
    "This notebook is used for analyzing the latency properties of the C prototype, whose code is stored in `<project root>/c/realtime`."
   ]
  },
  {
   "cell_type": "markdown",
   "metadata": {},
   "source": [
    "## Running the experiment\n",
    "\n",
    "For a more detailed explanation of how the latency experiment run on the different prototypes works, see the \"Running the experiment\" section in [05_results_python.ipynb](./05_results_python.ipynb). This notebook will just explain the commands necessary to build the C prototype and run the latency procedure on it for the echo and LMS filters.\n",
    "\n",
    "### Dependencies\n",
    "\n",
    "**TODO: Figure these out**\n",
    "\n",
    "### Building the binary\n",
    "\n",
    "Unlike Python and Julia, C is not an interpreted language, and requires that a program be compiled into a binary before being run. To build the binary for the C prototype, first navigate to `<project root>/c/realtime/build`, and then run the commands:\n",
    "```console\n",
    "> conan install ..\n",
    "> cmake ..\n",
    "> make\n",
    "```\n",
    "If the build process runs successfully, the resulting binary will be located at `<project root>/c/realtime/build/bin/realtime`.\n",
    "\n",
    "### Echo filter\n",
    "\n",
    "To run the latency procedure for the echo filter, you will need two separate terminal windows (make sure the project root is the working directory in both terminals). First, use the following command to launch the processor in the first terminal:\n",
    "```console\n",
    ">  c/realtime/build/bin/realtime processor --host 127.0.0.1 --port 8889 --filter echo\n",
    "```\n",
    "Once the processor instance is running, use this command to start the probe in the second terminal (this will start the experiment):\n",
    "```console\n",
    "> c/realtime/build/bin/realtime probe --host 127.0.0.1 --port 8889 --input data/processed/test_spks_c.h5 --output data/results/c_echo.h5\n",
    "```\n",
    "This setup runs both the processor and probe instances on `localhost`, communicating through port 8889. To run them on different machines or a different port, just change these values.\n",
    "\n",
    "### LMS filter\n",
    "\n",
    "To run the experiment for the LMS filter, use the same commands with the `--filter` option for the processor instance changed from `echo` to `lms`, and the output filename changed:\n",
    "\n",
    "Terminal 1:\n",
    "```console\n",
    ">  c/realtime/build/bin/realtime processor --host 127.0.0.1 --port 8889 --filter lms\n",
    "```\n",
    "Terminal 2:\n",
    "```console\n",
    "> c/realtime/build/bin/realtime probe --host 127.0.0.1 --port 8889 --input data/processed/test_spks_c.h5 --output data/results/c_lms.h5\n",
    "```"
   ]
  },
  {
   "cell_type": "markdown",
   "metadata": {},
   "source": [
    "## Imports"
   ]
  },
  {
   "cell_type": "code",
   "execution_count": 2,
   "metadata": {},
   "outputs": [],
   "source": [
    "import numpy as np\n",
    "import h5py\n",
    "from matplotlib import pyplot as plt"
   ]
  },
  {
   "cell_type": "markdown",
   "metadata": {},
   "source": [
    "## Load filter outputs from file"
   ]
  },
  {
   "cell_type": "code",
   "execution_count": 3,
   "metadata": {},
   "outputs": [],
   "source": [
    "ECHO_FPATH = '../data/results/c_echo.h5'\n",
    "LMS_FPATH = '../data/results/c_lms.h5'\n",
    "\n",
    "with h5py.File(ECHO_FPATH, 'r') as f:\n",
    "    fp_echo = f['filter_preds'][:].T\n",
    "    rt_echo = f['rt_times_us'][:].T\n",
    "    \n",
    "with h5py.File(LMS_FPATH, 'r') as f:\n",
    "    fp_lms = f['filter_preds'][:].T\n",
    "    rt_lms = f['rt_times_us'][:].T"
   ]
  },
  {
   "cell_type": "markdown",
   "metadata": {},
   "source": [
    "## Latency distribution"
   ]
  },
  {
   "cell_type": "markdown",
   "metadata": {},
   "source": [
    "### Summary statistics"
   ]
  },
  {
   "cell_type": "code",
   "execution_count": 4,
   "metadata": {},
   "outputs": [
    {
     "name": "stdout",
     "output_type": "stream",
     "text": [
      "Echo filter\n",
      "    min: 21.00 us\n",
      "    max: 15442.00 us\n",
      "    mean: 37.71 us\n",
      "    median: 29.00 us\n",
      "\n",
      "LMS filter\n",
      "    min: 1195.00 us\n",
      "    max: 21061.00 us\n",
      "    mean: 1563.50 us\n",
      "    median: 1531.00 us\n"
     ]
    }
   ],
   "source": [
    "print('Echo filter')\n",
    "print(f'    min: {np.min(rt_echo):.2f} us')\n",
    "print(f'    max: {np.max(rt_echo):.2f} us')\n",
    "print(f'    mean: {np.mean(rt_echo):.2f} us')\n",
    "print(f'    median: {np.median(rt_echo):.2f} us')\n",
    "\n",
    "print('')\n",
    "print('LMS filter')\n",
    "print(f'    min: {np.min(rt_lms):.2f} us')\n",
    "print(f'    max: {np.max(rt_lms):.2f} us')\n",
    "print(f'    mean: {np.mean(rt_lms):.2f} us')\n",
    "print(f'    median: {np.median(rt_lms):.2f} us')"
   ]
  },
  {
   "cell_type": "markdown",
   "metadata": {},
   "source": [
    "### Full distribution"
   ]
  },
  {
   "cell_type": "code",
   "execution_count": 5,
   "metadata": {},
   "outputs": [
    {
     "data": {
      "image/png": "[encoded data removed]",
      "text/plain": [
       "<Figure size 720x360 with 2 Axes>"
      ]
     },
     "metadata": {
      "needs_background": "light"
     },
     "output_type": "display_data"
    }
   ],
   "source": [
    "fig, ax = plt.subplots(1, 2, figsize=(10, 5), sharey=True)\n",
    "\n",
    "ax[0].set_title('Echo');\n",
    "ax[0].hist(rt_echo, bins=500)\n",
    "ax[0].set(ylabel='count')\n",
    "ax[0].set(xlabel='latency (microseconds)')\n",
    "\n",
    "ax[1].set_title('LMS');\n",
    "ax[1].hist(rt_lms, bins=500);\n",
    "ax[1].set(xlabel='latency (microseconds)');"
   ]
  },
  {
   "cell_type": "markdown",
   "metadata": {},
   "source": [
    "### Distribution with outliers removed"
   ]
  },
  {
   "cell_type": "code",
   "execution_count": 6,
   "metadata": {},
   "outputs": [
    {
     "data": {
      "image/png": "[encoded data removed]",
      "text/plain": [
       "<Figure size 720x360 with 2 Axes>"
      ]
     },
     "metadata": {
      "needs_background": "light"
     },
     "output_type": "display_data"
    }
   ],
   "source": [
    "# Max values for histogram (all larger values will be excluded)\n",
    "ECHO_MAX = 150\n",
    "LMS_MAX = 4000\n",
    "\n",
    "# Latency values to plot\n",
    "rt_echo_plt = rt_echo[rt_echo < ECHO_MAX]\n",
    "rt_lms_plt = rt_lms[rt_lms < LMS_MAX]\n",
    "\n",
    "# Percentages of values included\n",
    "pct_echo = rt_echo_plt.shape[0] / rt_echo.shape[0] * 100\n",
    "pct_lms = rt_lms_plt.shape[0] / rt_lms.shape[0] * 100\n",
    "\n",
    "fig, ax = plt.subplots(1, 2, figsize=(10, 5), sharey=True)\n",
    "\n",
    "ax[0].set_title(f'Echo ({pct_echo:.2f}%)');\n",
    "ax[0].hist(rt_echo[rt_echo < ECHO_MAX], bins=500)\n",
    "ax[0].set(ylabel='count')\n",
    "ax[0].set(xlabel='latency (microseconds)')\n",
    "\n",
    "ax[1].set_title(f'LMS ({pct_lms:.2f}%)');\n",
    "ax[1].hist(rt_lms[rt_lms < LMS_MAX], bins=500);\n",
    "ax[1].set(xlabel='latency (microseconds)');"
   ]
  },
  {
   "cell_type": "code",
   "execution_count": null,
   "metadata": {},
   "outputs": [],
   "source": []
  }
 ],
 "metadata": {
  "kernelspec": {
   "display_name": "Python 3",
   "language": "python",
   "name": "python3"
  },
  "language_info": {
   "codemirror_mode": {
    "name": "ipython",
    "version": 3
   },
   "file_extension": ".py",
   "mimetype": "text/x-python",
   "name": "python",
   "nbconvert_exporter": "python",
   "pygments_lexer": "ipython3",
   "version": "3.8.5"
  }
 },
 "nbformat": 4,
 "nbformat_minor": 4
}
