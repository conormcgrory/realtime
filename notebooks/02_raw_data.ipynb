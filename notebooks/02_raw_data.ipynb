{
 "cells": [
  {
   "cell_type": "markdown",
   "metadata": {},
   "source": [
    "# Examine raw data\n",
    "\n",
    "To test our real-time filtering prototypes, we used publically available electrophysiological data from [Steinmetz et al., 2019](https://www.nature.com/articles/s41586-019-1787-x). This dataset was recorded using Neuropixel probes, the type of probe we ultimately want to use with the real-time filtering system. "
   ]
  },
  {
   "cell_type": "markdown",
   "metadata": {},
   "source": [
    "## Imports"
   ]
  },
  {
   "cell_type": "code",
   "execution_count": 1,
   "metadata": {},
   "outputs": [],
   "source": [
    "import os\n",
    "import requests\n",
    "\n",
    "import numpy as np\n",
    "import h5py\n",
    "from matplotlib import pyplot as plt"
   ]
  },
  {
   "cell_type": "markdown",
   "metadata": {},
   "source": [
    "## Download data\n",
    "\n",
    "To use the data from Steinmetz et al., we first need to download the files from the public server they're hosted on and store them locally. The raw dataset consists of three `.npz` files. We will store these files in `<project root>/data/raw`. If they already exist, the script avoids re-downloading them."
   ]
  },
  {
   "cell_type": "code",
   "execution_count": 2,
   "metadata": {},
   "outputs": [
    {
     "name": "stdout",
     "output_type": "stream",
     "text": [
      "File 'steinmetz_part0.npz' already exists\n",
      "File 'steinmetz_part1.npz' already exists\n",
      "File 'steinmetz_part2.npz' already exists\n"
     ]
    }
   ],
   "source": [
    "# Relative path to directory where files are stored\n",
    "RAW_DATA_DIR = '../data/raw'\n",
    "\n",
    "# Filenames and URLs to download files from\n",
    "FILE_URLS = [\n",
    "    ('steinmetz_part0.npz', 'https://osf.io/agvxh/download'), \n",
    "    ('steinmetz_part1.npz', 'https://osf.io/uv3mw/download'), \n",
    "    ('steinmetz_part2.npz', 'https://osf.io/ehmw2/download'),\n",
    "]\n",
    "\n",
    "def fetch(url, fpath):\n",
    "    \"\"\"Download file from URL to specified path.\"\"\"\n",
    "    \n",
    "    try:\n",
    "        r = requests.get(url)\n",
    "    except requests.ConnectionError:\n",
    "        print('Failed to download data!')\n",
    "    else:\n",
    "        if r.status_code != requests.codes.ok:\n",
    "            print('Failed to download data!')\n",
    "        else:\n",
    "            with open(fpath, 'wb') as f:\n",
    "                f.write(r.content)\n",
    "\n",
    "# Download all files from respective URLs\n",
    "for fname, url in FILE_URLS:\n",
    "    \n",
    "    fpath = os.path.join(RAW_DATA_DIR, fname)\n",
    "    \n",
    "    if os.path.isfile(fpath):\n",
    "        print(f\"File '{fname}' already exists\")\n",
    "    else:\n",
    "        print(f\"File '{fname}' not found. Downloading from {url}...\")\n",
    "        fetch(url, fpath)\n",
    "        print('Done.')"
   ]
  },
  {
   "cell_type": "markdown",
   "metadata": {},
   "source": [
    "## Load raw data from files"
   ]
  },
  {
   "cell_type": "code",
   "execution_count": 4,
   "metadata": {},
   "outputs": [
    {
     "name": "stdout",
     "output_type": "stream",
     "text": [
      "Loading Steinmetz data from '../data/raw'...\n",
      "Done.\n",
      "Num. sessions: 39\n"
     ]
    }
   ],
   "source": [
    "# Load raw Steinmetz data from files\n",
    "print(f\"Loading Steinmetz data from '{RAW_DATA_DIR}'...\")\n",
    "raw_data_fnames = [x[0] for x in FILE_URLS]\n",
    "input_fpaths = [os.path.join(RAW_DATA_DIR, f) for f in raw_data_fnames]\n",
    "all_sessions = np.array([])\n",
    "for f in input_fpaths:\n",
    "    all_sessions = np.hstack((all_sessions, np.load(f, allow_pickle=True)['dat']))\n",
    "print('Done.')\n",
    "\n",
    "# Get number of sessions\n",
    "n_sessions = all_sessions.shape[0]\n",
    "print(f'Num. sessions: {n_sessions}')"
   ]
  },
  {
   "cell_type": "markdown",
   "metadata": {},
   "source": [
    "## Select session"
   ]
  },
  {
   "cell_type": "code",
   "execution_count": 3,
   "metadata": {},
   "outputs": [
    {
     "name": "stdout",
     "output_type": "stream",
     "text": [
      "Session: 11\n",
      "Bin size: 0.01 sec\n",
      "Num. neurons: 698\n",
      "Num. trials: 340\n",
      "Num. samples/trial: 250\n",
      "Num. samples total: 85000\n"
     ]
    }
   ],
   "source": [
    "# Session to inspect\n",
    "SESSION_NUM = 11\n",
    "\n",
    "# Unpack session data\n",
    "data = all_sessions[SESSION_NUM]\n",
    "bin_size = data['bin_size']\n",
    "spks = data['spks']\n",
    "n_neurons = spks.shape[0]\n",
    "n_trials = spks.shape[1]\n",
    "n_smps_trial = spks.shape[2]\n",
    "n_smps_total = n_trials * n_smps_trial\n",
    "\n",
    "print(f'Session: {SESSION_NUM}')\n",
    "print(f'Bin size: {bin_size} sec')\n",
    "print(f'Num. neurons: {n_neurons}')\n",
    "print(f'Num. trials: {n_trials}')\n",
    "print(f'Num. samples/trial: {n_smps_trial}')\n",
    "print(f'Num. samples total: {n_smps_total}')"
   ]
  },
  {
   "cell_type": "markdown",
   "metadata": {},
   "source": [
    "## Plot spike counts for trial"
   ]
  },
  {
   "cell_type": "code",
   "execution_count": 4,
   "metadata": {},
   "outputs": [
    {
     "data": {
      "image/png": "[encoded data removed]",
      "text/plain": [
       "<Figure size 1080x648 with 5 Axes>"
      ]
     },
     "metadata": {
      "needs_background": "light"
     },
     "output_type": "display_data"
    }
   ],
   "source": [
    "# Trial to plot\n",
    "TRIAL_NUM = 1\n",
    "\n",
    "# Neurons to plot\n",
    "NEURONS_PLT = [100, 200, 300, 400, 500]\n",
    "\n",
    "t_vals = bin_size * np.arange(n_smps_trial)\n",
    "\n",
    "fig, ax = plt.subplots(len(NEURONS_PLT), 1, figsize=(15, 9), sharex=True, sharey=True)\n",
    "\n",
    "for i, n in enumerate(NEURONS_PLT):\n",
    "    ax[i].set_title(f'neuron {n}')\n",
    "    ax[i].plot(t_vals, spks[n, TRIAL_NUM, :], drawstyle='steps-pre')\n",
    "\n",
    "ax[-1].set(xlabel='time (s)')\n",
    "    \n",
    "plt.tight_layout()"
   ]
  }
 ],
 "metadata": {
  "kernelspec": {
   "display_name": "Python 3",
   "language": "python",
   "name": "python3"
  },
  "language_info": {
   "codemirror_mode": {
    "name": "ipython",
    "version": 3
   },
   "file_extension": ".py",
   "mimetype": "text/x-python",
   "name": "python",
   "nbconvert_exporter": "python",
   "pygments_lexer": "ipython3",
   "version": "3.8.5"
  }
 },
 "nbformat": 4,
 "nbformat_minor": 4
}
