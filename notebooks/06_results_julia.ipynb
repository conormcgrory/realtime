{
 "cells": [
  {
   "cell_type": "markdown",
   "metadata": {},
   "source": [
    "# Julia prototype \n",
    "\n",
    "This notebook is used for analyzing the latency properties of the Julia prototype, whose code is stored in `<project root>/julia`."
   ]
  },
  {
   "cell_type": "markdown",
   "metadata": {},
   "source": [
    "## Running the experiment\n",
    "\n",
    "For a more detailed explanation of how the latency experiment run on the different prototypes works, see the \"Running the experiment\" section in [05_results_python.ipynb](./05_results_python.ipynb). This notebook will just explain the commands necessary to run the latency procedure on the echo and LMS filters for the Julia prototype.\n",
    "\n",
    "### Echo filter\n",
    "\n",
    "The code for the Julia prototype is stored in `<project root>/julia/realtime.jl`. To run the latency procedure for the echo filter, you will need two separate terminal windows. First, use the following command to launch the processor in the first terminal:\n",
    "```console\n",
    "> julia julia/realtime.jl processor --host 127.0.0.1 --port 8889 --filter echo\n",
    "```\n",
    "Once the processor instance is running, use this command to start the probe in the second terminal (this will start the experiment):\n",
    "```console\n",
    "> julia julia/realtime.jl probe --host 127.0.0.1 --port 8889 --input data/processed/test_spks.h5 --output data/results/julia_echo.h5\n",
    "```\n",
    "This setup runs both the processor and probe instances on `localhost`, communicating through port 8889. To run them on different machines or a different port, just change these values.\n",
    "\n",
    "### LMS filter\n",
    "\n",
    "To run the experiment for the LMS filter, use the same commands with the `--filter` option for the processor instance changed from `echo` to `lms`, and the output filename changed:\n",
    "\n",
    "Terminal 1:\n",
    "```console\n",
    "> julia julia/realtime.jl processor --host 127.0.0.1 --port 8889 --filter lms\n",
    "```\n",
    "Terminal 2:\n",
    "```console\n",
    "> julia julia/realtime.jl probe --host 127.0.0.1 --port 8889 --input data/processed/test_spks.h5 --output data/results/julia_lms.h5\n",
    "```"
   ]
  },
  {
   "cell_type": "markdown",
   "metadata": {},
   "source": [
    "## Imports"
   ]
  },
  {
   "cell_type": "code",
   "execution_count": 1,
   "metadata": {},
   "outputs": [],
   "source": [
    "import numpy as np\n",
    "import h5py\n",
    "from matplotlib import pyplot as plt"
   ]
  },
  {
   "cell_type": "markdown",
   "metadata": {},
   "source": [
    "## Load filter outputs from file"
   ]
  },
  {
   "cell_type": "code",
   "execution_count": 2,
   "metadata": {},
   "outputs": [
    {
     "ename": "OSError",
     "evalue": "Unable to open file (unable to open file: name = '../data/results/julia_lms.h5', errno = 2, error message = 'No such file or directory', flags = 0, o_flags = 0)",
     "output_type": "error",
     "traceback": [
      "\u001b[0;31m---------------------------------------------------------------------------\u001b[0m",
      "\u001b[0;31mOSError\u001b[0m                                   Traceback (most recent call last)",
      "\u001b[0;32m<ipython-input-2-9c30a7ce62a7>\u001b[0m in \u001b[0;36m<module>\u001b[0;34m\u001b[0m\n\u001b[1;32m      6\u001b[0m     \u001b[0mrt_echo\u001b[0m \u001b[0;34m=\u001b[0m \u001b[0mf\u001b[0m\u001b[0;34m[\u001b[0m\u001b[0;34m'rt_times_us'\u001b[0m\u001b[0;34m]\u001b[0m\u001b[0;34m[\u001b[0m\u001b[0;34m:\u001b[0m\u001b[0;34m]\u001b[0m\u001b[0;34m\u001b[0m\u001b[0;34m\u001b[0m\u001b[0m\n\u001b[1;32m      7\u001b[0m \u001b[0;34m\u001b[0m\u001b[0m\n\u001b[0;32m----> 8\u001b[0;31m \u001b[0;32mwith\u001b[0m \u001b[0mh5py\u001b[0m\u001b[0;34m.\u001b[0m\u001b[0mFile\u001b[0m\u001b[0;34m(\u001b[0m\u001b[0mLMS_FPATH\u001b[0m\u001b[0;34m,\u001b[0m \u001b[0;34m'r'\u001b[0m\u001b[0;34m)\u001b[0m \u001b[0;32mas\u001b[0m \u001b[0mf\u001b[0m\u001b[0;34m:\u001b[0m\u001b[0;34m\u001b[0m\u001b[0;34m\u001b[0m\u001b[0m\n\u001b[0m\u001b[1;32m      9\u001b[0m     \u001b[0mfp_lms\u001b[0m \u001b[0;34m=\u001b[0m \u001b[0mf\u001b[0m\u001b[0;34m[\u001b[0m\u001b[0;34m'filter_preds'\u001b[0m\u001b[0;34m]\u001b[0m\u001b[0;34m[\u001b[0m\u001b[0;34m:\u001b[0m\u001b[0;34m]\u001b[0m\u001b[0;34m\u001b[0m\u001b[0;34m\u001b[0m\u001b[0m\n\u001b[1;32m     10\u001b[0m     \u001b[0mrt_lms\u001b[0m \u001b[0;34m=\u001b[0m \u001b[0mf\u001b[0m\u001b[0;34m[\u001b[0m\u001b[0;34m'rt_times_us'\u001b[0m\u001b[0;34m]\u001b[0m\u001b[0;34m[\u001b[0m\u001b[0;34m:\u001b[0m\u001b[0;34m]\u001b[0m\u001b[0;34m\u001b[0m\u001b[0;34m\u001b[0m\u001b[0m\n",
      "\u001b[0;32m/usr/local/anaconda3/envs/realtime/lib/python3.8/site-packages/h5py/_hl/files.py\u001b[0m in \u001b[0;36m__init__\u001b[0;34m(self, name, mode, driver, libver, userblock_size, swmr, rdcc_nslots, rdcc_nbytes, rdcc_w0, track_order, **kwds)\u001b[0m\n\u001b[1;32m    404\u001b[0m             \u001b[0;32mwith\u001b[0m \u001b[0mphil\u001b[0m\u001b[0;34m:\u001b[0m\u001b[0;34m\u001b[0m\u001b[0;34m\u001b[0m\u001b[0m\n\u001b[1;32m    405\u001b[0m                 \u001b[0mfapl\u001b[0m \u001b[0;34m=\u001b[0m \u001b[0mmake_fapl\u001b[0m\u001b[0;34m(\u001b[0m\u001b[0mdriver\u001b[0m\u001b[0;34m,\u001b[0m \u001b[0mlibver\u001b[0m\u001b[0;34m,\u001b[0m \u001b[0mrdcc_nslots\u001b[0m\u001b[0;34m,\u001b[0m \u001b[0mrdcc_nbytes\u001b[0m\u001b[0;34m,\u001b[0m \u001b[0mrdcc_w0\u001b[0m\u001b[0;34m,\u001b[0m \u001b[0;34m**\u001b[0m\u001b[0mkwds\u001b[0m\u001b[0;34m)\u001b[0m\u001b[0;34m\u001b[0m\u001b[0;34m\u001b[0m\u001b[0m\n\u001b[0;32m--> 406\u001b[0;31m                 fid = make_fid(name, mode, userblock_size,\n\u001b[0m\u001b[1;32m    407\u001b[0m                                \u001b[0mfapl\u001b[0m\u001b[0;34m,\u001b[0m \u001b[0mfcpl\u001b[0m\u001b[0;34m=\u001b[0m\u001b[0mmake_fcpl\u001b[0m\u001b[0;34m(\u001b[0m\u001b[0mtrack_order\u001b[0m\u001b[0;34m=\u001b[0m\u001b[0mtrack_order\u001b[0m\u001b[0;34m)\u001b[0m\u001b[0;34m,\u001b[0m\u001b[0;34m\u001b[0m\u001b[0;34m\u001b[0m\u001b[0m\n\u001b[1;32m    408\u001b[0m                                swmr=swmr)\n",
      "\u001b[0;32m/usr/local/anaconda3/envs/realtime/lib/python3.8/site-packages/h5py/_hl/files.py\u001b[0m in \u001b[0;36mmake_fid\u001b[0;34m(name, mode, userblock_size, fapl, fcpl, swmr)\u001b[0m\n\u001b[1;32m    171\u001b[0m         \u001b[0;32mif\u001b[0m \u001b[0mswmr\u001b[0m \u001b[0;32mand\u001b[0m \u001b[0mswmr_support\u001b[0m\u001b[0;34m:\u001b[0m\u001b[0;34m\u001b[0m\u001b[0;34m\u001b[0m\u001b[0m\n\u001b[1;32m    172\u001b[0m             \u001b[0mflags\u001b[0m \u001b[0;34m|=\u001b[0m \u001b[0mh5f\u001b[0m\u001b[0;34m.\u001b[0m\u001b[0mACC_SWMR_READ\u001b[0m\u001b[0;34m\u001b[0m\u001b[0;34m\u001b[0m\u001b[0m\n\u001b[0;32m--> 173\u001b[0;31m         \u001b[0mfid\u001b[0m \u001b[0;34m=\u001b[0m \u001b[0mh5f\u001b[0m\u001b[0;34m.\u001b[0m\u001b[0mopen\u001b[0m\u001b[0;34m(\u001b[0m\u001b[0mname\u001b[0m\u001b[0;34m,\u001b[0m \u001b[0mflags\u001b[0m\u001b[0;34m,\u001b[0m \u001b[0mfapl\u001b[0m\u001b[0;34m=\u001b[0m\u001b[0mfapl\u001b[0m\u001b[0;34m)\u001b[0m\u001b[0;34m\u001b[0m\u001b[0;34m\u001b[0m\u001b[0m\n\u001b[0m\u001b[1;32m    174\u001b[0m     \u001b[0;32melif\u001b[0m \u001b[0mmode\u001b[0m \u001b[0;34m==\u001b[0m \u001b[0;34m'r+'\u001b[0m\u001b[0;34m:\u001b[0m\u001b[0;34m\u001b[0m\u001b[0;34m\u001b[0m\u001b[0m\n\u001b[1;32m    175\u001b[0m         \u001b[0mfid\u001b[0m \u001b[0;34m=\u001b[0m \u001b[0mh5f\u001b[0m\u001b[0;34m.\u001b[0m\u001b[0mopen\u001b[0m\u001b[0;34m(\u001b[0m\u001b[0mname\u001b[0m\u001b[0;34m,\u001b[0m \u001b[0mh5f\u001b[0m\u001b[0;34m.\u001b[0m\u001b[0mACC_RDWR\u001b[0m\u001b[0;34m,\u001b[0m \u001b[0mfapl\u001b[0m\u001b[0;34m=\u001b[0m\u001b[0mfapl\u001b[0m\u001b[0;34m)\u001b[0m\u001b[0;34m\u001b[0m\u001b[0;34m\u001b[0m\u001b[0m\n",
      "\u001b[0;32mh5py/_objects.pyx\u001b[0m in \u001b[0;36mh5py._objects.with_phil.wrapper\u001b[0;34m()\u001b[0m\n",
      "\u001b[0;32mh5py/_objects.pyx\u001b[0m in \u001b[0;36mh5py._objects.with_phil.wrapper\u001b[0;34m()\u001b[0m\n",
      "\u001b[0;32mh5py/h5f.pyx\u001b[0m in \u001b[0;36mh5py.h5f.open\u001b[0;34m()\u001b[0m\n",
      "\u001b[0;31mOSError\u001b[0m: Unable to open file (unable to open file: name = '../data/results/julia_lms.h5', errno = 2, error message = 'No such file or directory', flags = 0, o_flags = 0)"
     ]
    }
   ],
   "source": [
    "ECHO_FPATH = '../data/results/julia_echo.h5'\n",
    "LMS_FPATH = '../data/results/julia_lms.h5'\n",
    "\n",
    "with h5py.File(ECHO_FPATH, 'r') as f:\n",
    "    fp_echo = f['filter_preds'][:]\n",
    "    rt_echo = f['rt_times_us'][:]\n",
    "    \n",
    "with h5py.File(LMS_FPATH, 'r') as f:\n",
    "    fp_lms = f['filter_preds'][:]\n",
    "    rt_lms = f['rt_times_us'][:]"
   ]
  },
  {
   "cell_type": "markdown",
   "metadata": {},
   "source": [
    "## Latency distribution"
   ]
  },
  {
   "cell_type": "markdown",
   "metadata": {},
   "source": [
    "### Summary statistics"
   ]
  },
  {
   "cell_type": "code",
   "execution_count": 12,
   "metadata": {},
   "outputs": [
    {
     "name": "stdout",
     "output_type": "stream",
     "text": [
      "Echo filter\n",
      "    min: 37.00 us\n",
      "    max: 1489.00 us\n",
      "    mean: 52.73 us\n",
      "    median: 45.00 us\n",
      "\n",
      "LMS filter\n",
      "    min: 8079.00 us\n",
      "    max: 24481.00 us\n",
      "    mean: 8765.43 us\n",
      "    median: 8717.00 us\n"
     ]
    }
   ],
   "source": [
    "print('Echo filter')\n",
    "print(f'    min: {np.min(rt_echo):.2f} us')\n",
    "print(f'    max: {np.max(rt_echo):.2f} us')\n",
    "print(f'    mean: {np.mean(rt_echo):.2f} us')\n",
    "print(f'    median: {np.median(rt_echo):.2f} us')\n",
    "\n",
    "print('')\n",
    "print('LMS filter')\n",
    "print(f'    min: {np.min(rt_lms):.2f} us')\n",
    "print(f'    max: {np.max(rt_lms):.2f} us')\n",
    "print(f'    mean: {np.mean(rt_lms):.2f} us')\n",
    "print(f'    median: {np.median(rt_lms):.2f} us')"
   ]
  },
  {
   "cell_type": "markdown",
   "metadata": {},
   "source": [
    "### Full distribution"
   ]
  },
  {
   "cell_type": "code",
   "execution_count": 27,
   "metadata": {},
   "outputs": [
    {
     "data": {
      "image/png": "[encoded data removed]",
      "text/plain": [
       "<Figure size 720x360 with 2 Axes>"
      ]
     },
     "metadata": {
      "needs_background": "light"
     },
     "output_type": "display_data"
    }
   ],
   "source": [
    "fig, ax = plt.subplots(1, 2, figsize=(10, 5), sharey=True)\n",
    "\n",
    "ax[0].set_title('Echo');\n",
    "ax[0].hist(rt_echo, bins=500)\n",
    "ax[0].set(ylabel='count')\n",
    "ax[0].set(xlabel='latency (microseconds)')\n",
    "\n",
    "ax[1].set_title('LMS');\n",
    "ax[1].hist(rt_lms, bins=500);\n",
    "ax[1].set(xlabel='latency (microseconds)');"
   ]
  },
  {
   "cell_type": "markdown",
   "metadata": {},
   "source": [
    "### Distribution with outliers removed"
   ]
  },
  {
   "cell_type": "code",
   "execution_count": 26,
   "metadata": {},
   "outputs": [
    {
     "data": {
      "image/png": "[encoded data removed]",
      "text/plain": [
       "<Figure size 720x360 with 2 Axes>"
      ]
     },
     "metadata": {
      "needs_background": "light"
     },
     "output_type": "display_data"
    }
   ],
   "source": [
    "# Max values for histogram (all larger values will be excluded)\n",
    "ECHO_MAX = 200\n",
    "LMS_MAX = 11000\n",
    "\n",
    "# Latency values to plot\n",
    "rt_echo_plt = rt_echo[rt_echo < ECHO_MAX]\n",
    "rt_lms_plt = rt_lms[rt_lms < LMS_MAX]\n",
    "\n",
    "# Percentages of values included\n",
    "pct_echo = rt_echo_plt.shape[0] / rt_echo.shape[0] * 100\n",
    "pct_lms = rt_lms_plt.shape[0] / rt_lms.shape[0] * 100\n",
    "\n",
    "fig, ax = plt.subplots(1, 2, figsize=(10, 5), sharey=True)\n",
    "\n",
    "ax[0].set_title(f'Echo ({pct_echo:.2f}%)');\n",
    "ax[0].hist(rt_echo[rt_echo < ECHO_MAX], bins=500)\n",
    "ax[0].set(ylabel='count')\n",
    "ax[0].set(xlabel='latency (microseconds)')\n",
    "\n",
    "ax[1].set_title(f'LMS ({pct_lms:.2f}%)');\n",
    "ax[1].hist(rt_lms[rt_lms < LMS_MAX], bins=500);\n",
    "ax[1].set(xlabel='latency (microseconds)');"
   ]
  }
 ],
 "metadata": {
  "kernelspec": {
   "display_name": "Python 3",
   "language": "python",
   "name": "python3"
  },
  "language_info": {
   "codemirror_mode": {
    "name": "ipython",
    "version": 3
   },
   "file_extension": ".py",
   "mimetype": "text/x-python",
   "name": "python",
   "nbconvert_exporter": "python",
   "pygments_lexer": "ipython3",
   "version": "3.8.5"
  }
 },
 "nbformat": 4,
 "nbformat_minor": 4
}
