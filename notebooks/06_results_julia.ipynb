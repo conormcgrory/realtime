{
 "cells": [
  {
   "cell_type": "markdown",
   "metadata": {},
   "source": [
    "# Julia prototype \n",
    "\n",
    "This notebook is used for analyzing the latency properties of the Julia prototype, whose code is stored in `<project root>/julia`."
   ]
  },
  {
   "cell_type": "markdown",
   "metadata": {},
   "source": [
    "## Running the experiment\n",
    "\n",
    "For a more detailed explanation of how the latency experiment run on the different prototypes works, see the \"Running the experiment\" section in [05_results_python.ipynb](./05_results_python.ipynb). This notebook will just explain the commands necessary to run the latency procedure on the echo and LMS filters for the Julia prototype.\n",
    "\n",
    "### Echo filter\n",
    "\n",
    "The code for the Julia prototype is stored in `<project root>/julia/realtime.jl`. To run the latency procedure for the echo filter, you will need two separate terminal windows. First, use the following command to launch the processor in the first terminal:\n",
    "```console\n",
    "> julia julia/realtime.jl processor --host 127.0.0.1 --port 8889 --filter echo\n",
    "```\n",
    "Once the processor instance is running, use this command to start the probe in the second terminal (this will start the experiment):\n",
    "```console\n",
    "> julia julia/realtime.jl probe --host 127.0.0.1 --port 8889 --input data/processed/test_spks.h5 --output data/results/julia_echo.h5\n",
    "```\n",
    "This setup runs both the processor and probe instances on `localhost`, communicating through port 8889. To run them on different machines or a different port, just change these values.\n",
    "\n",
    "### LMS filter\n",
    "\n",
    "**NOTE: The LMS filter for the Julia prototype has NOT been implemented yet!**\n",
    "\n",
    "To run the experiment for the LMS filter, use the same commands with the `--filter` option for the processor instance changed from `echo` to `lms`, and the output filename changed:\n",
    "\n",
    "Terminal 1:\n",
    "```console\n",
    "> julia julia/realtime.jl processor --host 127.0.0.1 --port 8889 --filter lms\n",
    "```\n",
    "Terminal 2:\n",
    "```console\n",
    "> julia julia/realtime.jl probe --host 127.0.0.1 --port 8889 --input data/processed/test_spks.h5 --output data/results/julia_lms.h5\n",
    "```"
   ]
  },
  {
   "cell_type": "markdown",
   "metadata": {},
   "source": [
    "## Imports"
   ]
  },
  {
   "cell_type": "code",
   "execution_count": 1,
   "metadata": {},
   "outputs": [],
   "source": [
    "import numpy as np\n",
    "import h5py\n",
    "from matplotlib import pyplot as plt"
   ]
  },
  {
   "cell_type": "markdown",
   "metadata": {},
   "source": [
    "## Load filter outputs from file"
   ]
  },
  {
   "cell_type": "code",
   "execution_count": 2,
   "metadata": {},
   "outputs": [],
   "source": [
    "ECHO_FPATH = '../data/results/julia_echo.h5'\n",
    "#LMS_FPATH = '../data/results/julia_lms.h5'\n",
    "\n",
    "with h5py.File(ECHO_FPATH, 'r') as f:\n",
    "    fp_echo = f['filter_preds'][:]\n",
    "    rt_echo = f['rt_times_us'][:]\n",
    "    \n",
    "#with h5py.File(LMS_FPATH, 'r') as f:\n",
    "#    fp_lms = f['filter_preds'][:]\n",
    "#    rt_lms = f['rt_times_us'][:]"
   ]
  },
  {
   "cell_type": "markdown",
   "metadata": {},
   "source": [
    "## Latency distribution"
   ]
  },
  {
   "cell_type": "markdown",
   "metadata": {},
   "source": [
    "### Summary statistics"
   ]
  },
  {
   "cell_type": "code",
   "execution_count": 3,
   "metadata": {},
   "outputs": [
    {
     "name": "stdout",
     "output_type": "stream",
     "text": [
      "Echo filter\n",
      "    min: 97.05 us\n",
      "    max: 169042.32 us\n",
      "    mean: 146.93 us\n",
      "    median: 109.75 us\n"
     ]
    }
   ],
   "source": [
    "print('Echo filter')\n",
    "print(f'    min: {np.min(rt_echo):.2f} us')\n",
    "print(f'    max: {np.max(rt_echo):.2f} us')\n",
    "print(f'    mean: {np.mean(rt_echo):.2f} us')\n",
    "print(f'    median: {np.median(rt_echo):.2f} us')\n",
    "\n",
    "#print('')\n",
    "#print('LMS filter')\n",
    "#print(f'    min: {np.min(rt_lms):.2f} us')\n",
    "#print(f'    max: {np.max(rt_lms):.2f} us')\n",
    "#print(f'    mean: {np.mean(rt_lms):.2f} us')\n",
    "#print(f'    median: {np.median(rt_lms):.2f} us')"
   ]
  },
  {
   "cell_type": "markdown",
   "metadata": {},
   "source": [
    "### Full distribution"
   ]
  },
  {
   "cell_type": "code",
   "execution_count": 4,
   "metadata": {},
   "outputs": [
    {
     "data": {
      "text/plain": [
       "[Text(0.5, 0, 'latency (microseconds)')]"
      ]
     },
     "execution_count": 4,
     "metadata": {},
     "output_type": "execute_result"
    },
    {
     "data": {
      "image/png": "[encoded data removed]",
      "text/plain": [
       "<Figure size 720x360 with 1 Axes>"
      ]
     },
     "metadata": {
      "needs_background": "light"
     },
     "output_type": "display_data"
    }
   ],
   "source": [
    "fig, ax = plt.subplots(1, 1, figsize=(10, 5))\n",
    "\n",
    "ax.set_title('Echo');\n",
    "ax.hist(rt_echo, bins=500)\n",
    "ax.set(ylabel='count')\n",
    "ax.set(xlabel='latency (microseconds)')\n",
    "\n",
    "#ax[1].set_title('LMS');\n",
    "#ax[1].hist(rt_lms, bins=500);\n",
    "#ax[1].set(xlabel='latency (microseconds)');"
   ]
  },
  {
   "cell_type": "markdown",
   "metadata": {},
   "source": [
    "### Distribution with outliers removed"
   ]
  },
  {
   "cell_type": "code",
   "execution_count": 5,
   "metadata": {},
   "outputs": [
    {
     "data": {
      "image/png": "[encoded data removed]",
      "text/plain": [
       "<Figure size 720x360 with 1 Axes>"
      ]
     },
     "metadata": {
      "needs_background": "light"
     },
     "output_type": "display_data"
    }
   ],
   "source": [
    "# Max values for histogram (all larger values will be excluded)\n",
    "ECHO_MAX = 200\n",
    "#LMS_MAX = 11000\n",
    "\n",
    "# Latency values to plot\n",
    "rt_echo_plt = rt_echo[rt_echo < ECHO_MAX]\n",
    "#rt_lms_plt = rt_lms[rt_lms < LMS_MAX]\n",
    "\n",
    "# Percentages of values included\n",
    "pct_echo = rt_echo_plt.shape[0] / rt_echo.shape[0] * 100\n",
    "#pct_lms = rt_lms_plt.shape[0] / rt_lms.shape[0] * 100\n",
    "\n",
    "fig, ax = plt.subplots(1, 1, figsize=(10, 5))\n",
    "\n",
    "ax.set_title(f'Echo ({pct_echo:.2f}%)');\n",
    "ax.hist(rt_echo[rt_echo < ECHO_MAX], bins=500)\n",
    "ax.set(ylabel='count')\n",
    "ax.set(xlabel='latency (microseconds)');\n",
    "\n",
    "#ax[1].set_title(f'LMS ({pct_lms:.2f}%)');\n",
    "#ax[1].hist(rt_lms[rt_lms < LMS_MAX], bins=500);\n",
    "#ax[1].set(xlabel='latency (microseconds)');"
   ]
  }
 ],
 "metadata": {
  "kernelspec": {
   "display_name": "Python 3",
   "language": "python",
   "name": "python3"
  },
  "language_info": {
   "codemirror_mode": {
    "name": "ipython",
    "version": 3
   },
   "file_extension": ".py",
   "mimetype": "text/x-python",
   "name": "python",
   "nbconvert_exporter": "python",
   "pygments_lexer": "ipython3",
   "version": "3.8.5"
  }
 },
 "nbformat": 4,
 "nbformat_minor": 4
}
