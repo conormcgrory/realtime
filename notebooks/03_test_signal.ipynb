{
 "cells": [
  {
   "cell_type": "markdown",
   "metadata": {},
   "source": [
    "# Create signal for latency tests\n",
    "\n",
    "Because the trial recordings from the Steinmetz data are only 2.5 sec long each, we need to create a longer \"test signal\" for testing our real-time filtering prototypes. We do this by concatenating the spike trains across trials.\n",
    "\n",
    "Assuming the raw Steinmetz data is downloaded (see  [01_examine_raw_data.ipynb](./01_examine_raw_data.ipynb)), running the code in this notebook will create the test signal and store it in `<project root>/data/processed`.\n",
    "\n",
    "In addition to the \"standard\" test signal file, this notebook also creates a file containing the same data, but with the matrix dimensions flipped, so that it can be read by the C implementation, which needs to read data in row-major order."
   ]
  },
  {
   "cell_type": "markdown",
   "metadata": {},
   "source": [
    "## Imports"
   ]
  },
  {
   "cell_type": "code",
   "execution_count": 1,
   "metadata": {},
   "outputs": [],
   "source": [
    "import os\n",
    "import numpy as np\n",
    "import h5py\n",
    "from matplotlib import pyplot as plt"
   ]
  },
  {
   "cell_type": "markdown",
   "metadata": {},
   "source": [
    "## Create test signal"
   ]
  },
  {
   "cell_type": "code",
   "execution_count": 2,
   "metadata": {},
   "outputs": [
    {
     "name": "stdout",
     "output_type": "stream",
     "text": [
      "Loading Steinmetz data from ../data/raw...\n",
      "Done.\n",
      "Writing to ../data/processed/test_spks.h5...\n",
      "Done.\n",
      "Writing to ../data/processed/test_spks_c.h5...\n",
      "Done.\n"
     ]
    }
   ],
   "source": [
    "# Directory where raw data files are stored\n",
    "RAW_DATA_DIR = '../data/raw'\n",
    "\n",
    "# Filenames to load data from (in order!)\n",
    "RAW_DATA_FNAMES = ['steinmetz_part0.npz', 'steinmetz_part1.npz', 'steinmetz_part2.npz']\n",
    "\n",
    "# Session to use for test signal\n",
    "SESSION_NUM = 11\n",
    "\n",
    "# Output directory\n",
    "PROCESSED_DATA_DIR = '../data/processed'\n",
    "\n",
    "# File name for Python, Julia and Rust implementations\n",
    "OUT_FNAME = 'test_spks.h5'\n",
    "\n",
    "# File name for C implementation\n",
    "OUT_FNAME_C = 'test_spks_c.h5'\n",
    "\n",
    "# Load raw Steinmetz data from files\n",
    "print(f'Loading Steinmetz data from {RAW_DATA_DIR}...')\n",
    "input_fpaths = [os.path.join(RAW_DATA_DIR, f) for f in RAW_DATA_FNAMES]\n",
    "all_sessions = np.array([])\n",
    "for f in input_fpaths:\n",
    "    all_sessions = np.hstack((all_sessions, np.load(f, allow_pickle=True)['dat']))\n",
    "print('Done.')\n",
    "\n",
    "# Unpack session data\n",
    "data = all_sessions[SESSION_NUM]\n",
    "bin_size_sec = data['bin_size']\n",
    "spks = data['spks']\n",
    "n_neurons = spks.shape[0]\n",
    "\n",
    "# Create test signal by concatenating data from all trials\n",
    "spks_all_trials = spks.reshape(n_neurons, -1)\n",
    "\n",
    "# Save test signal to HDF5 file\n",
    "test_signal_fpath = os.path.join(PROCESSED_DATA_DIR, OUT_FNAME)\n",
    "print(f'Writing to {test_signal_fpath}...')\n",
    "with h5py.File(test_signal_fpath, 'w') as f:\n",
    "    dset = f.create_dataset('spks', data=spks_all_trials)\n",
    "    dset.attrs['session_num'] = SESSION_NUM\n",
    "    dset.attrs['bin_size_sec'] = bin_size_sec\n",
    "print('Done.')\n",
    "\n",
    "# Create test signal for C implementation by flipping dimensions\n",
    "spks_all_trials_c = spks_all_trials.T\n",
    "\n",
    "# Save C test signal to HDF5 file\n",
    "test_signal_c_fpath = os.path.join(PROCESSED_DATA_DIR, OUT_FNAME_C)\n",
    "print(f'Writing to {test_signal_c_fpath}...')\n",
    "with h5py.File(test_signal_c_fpath, 'w') as f:\n",
    "    dset = f.create_dataset('spks', data=spks_all_trials_c)\n",
    "    dset.attrs['session_num'] = SESSION_NUM\n",
    "    dset.attrs['bin_size_sec'] = bin_size_sec\n",
    "print('Done.')"
   ]
  },
  {
   "cell_type": "markdown",
   "metadata": {},
   "source": [
    "## Load test signal from file"
   ]
  },
  {
   "cell_type": "code",
   "execution_count": 3,
   "metadata": {},
   "outputs": [
    {
     "name": "stdout",
     "output_type": "stream",
     "text": [
      "Session num: 11\n",
      "Num. neurons: 698\n",
      "Num. points: 85000\n",
      "Bin size (sec): 0.01\n"
     ]
    }
   ],
   "source": [
    "with h5py.File(test_signal_fpath, 'r') as f:\n",
    "    spks = f['spks'][:]\n",
    "    session_num = f['spks'].attrs['session_num']\n",
    "    bin_size_sec = f['spks'].attrs['bin_size_sec']\n",
    "    n_neurons = spks.shape[0]\n",
    "    n_pts = spks.shape[1]\n",
    "    \n",
    "print(f'Session num: {session_num}')\n",
    "print(f'Num. neurons: {n_neurons}')\n",
    "print(f'Num. points: {n_pts}')\n",
    "print(f'Bin size (sec): {bin_size_sec}')"
   ]
  },
  {
   "cell_type": "markdown",
   "metadata": {},
   "source": [
    "## Plot spike counts for selected dimensions, time range"
   ]
  },
  {
   "cell_type": "code",
   "execution_count": 4,
   "metadata": {},
   "outputs": [
    {
     "data": {
      "image/png": "[encoded data removed]",
      "text/plain": [
       "<Figure size 1080x648 with 5 Axes>"
      ]
     },
     "metadata": {
      "needs_background": "light"
     },
     "output_type": "display_data"
    }
   ],
   "source": [
    "# Neurons to plot\n",
    "NEURONS_PLT = [100, 200, 300, 400, 500]\n",
    "\n",
    "# Index range to plot\n",
    "IDX_START = 0\n",
    "IDX_END = 2000\n",
    "\n",
    "t_vals = bin_size_sec * np.arange(IDX_START, IDX_END)\n",
    "\n",
    "fig, ax = plt.subplots(len(NEURONS_PLT), 1, figsize=(15, 9), sharex=True, sharey=True)\n",
    "\n",
    "for i, n in enumerate(NEURONS_PLT):\n",
    "    ax[i].set_title(f'neuron {n}')\n",
    "    ax[i].plot(t_vals, spks[n, IDX_START:IDX_END], drawstyle='steps-pre')\n",
    "\n",
    "ax[-1].set(xlabel='time (s)')\n",
    "    \n",
    "plt.tight_layout()"
   ]
  },
  {
   "cell_type": "code",
   "execution_count": null,
   "metadata": {},
   "outputs": [],
   "source": []
  }
 ],
 "metadata": {
  "kernelspec": {
   "display_name": "Python 3",
   "language": "python",
   "name": "python3"
  },
  "language_info": {
   "codemirror_mode": {
    "name": "ipython",
    "version": 3
   },
   "file_extension": ".py",
   "mimetype": "text/x-python",
   "name": "python",
   "nbconvert_exporter": "python",
   "pygments_lexer": "ipython3",
   "version": "3.8.5"
  }
 },
 "nbformat": 4,
 "nbformat_minor": 4
}
