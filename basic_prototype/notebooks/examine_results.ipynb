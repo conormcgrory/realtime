{
 "cells": [
  {
   "cell_type": "markdown",
   "metadata": {},
   "source": [
    "# Examine filtering results"
   ]
  },
  {
   "cell_type": "markdown",
   "metadata": {},
   "source": [
    "## Notes\n",
    "\n",
    "- Extremely long latency at beginning of stream seems to only occur when I'm streaming something else (YouTube) in background. Won't be doing this during experiment, so don't need to worry about it\n",
    "- Total time for `ping 127.0.0.1` is around 150 $\\mu s$ (Yuan suggested this as a lower bound)"
   ]
  },
  {
   "cell_type": "markdown",
   "metadata": {},
   "source": [
    "## Imports"
   ]
  },
  {
   "cell_type": "code",
   "execution_count": 1,
   "metadata": {},
   "outputs": [],
   "source": [
    "import numpy as np\n",
    "import h5py\n",
    "from matplotlib import pyplot as plt"
   ]
  },
  {
   "cell_type": "markdown",
   "metadata": {},
   "source": [
    "## Load signal and filter output from file"
   ]
  },
  {
   "cell_type": "code",
   "execution_count": 2,
   "metadata": {},
   "outputs": [],
   "source": [
    "#signal_fpath = '/Users/cmcgrory/park_lab/realtime/basic_prototype/data/processed/r11_avg_fr.h5'\n",
    "#with h5py.File(signal_fpath, 'r') as f:\n",
    "#    signal = f['fr_avg_hz'][:]\n",
    "    \n",
    "filter_fpath = '/Users/cmcgrory/park_lab/realtime/basic_prototype/rust/output.h5'\n",
    "with h5py.File(filter_fpath, 'r') as f:\n",
    "    filter_preds = f['filter_preds'][:]\n",
    "    rt_times_us = f['rt_times_us'][:]"
   ]
  },
  {
   "cell_type": "markdown",
   "metadata": {},
   "source": [
    "## Plot true and predicted signal values"
   ]
  },
  {
   "cell_type": "code",
   "execution_count": 3,
   "metadata": {},
   "outputs": [],
   "source": [
    "# Number of data points to plot\n",
    "#tmax_plot = 300\n",
    "\n",
    "# Signal, prediction, and error\n",
    "#signal_plot = signal[1:tmax_plot + 1]\n",
    "#preds_plot = filter_preds[0:tmax_plot]\n",
    "#err_plot = preds_plot - signal_plot\n",
    "\n",
    "#fig, (ax_1, ax_2) = plt.subplots(2, 1, figsize=(10, 7), sharex=True)\n",
    "\n",
    "#ax_1.plot(signal_plot)\n",
    "#ax_1.plot(preds_plot)\n",
    "#ax_1.set(ylabel='avg. firing rate (Hz)')\n",
    "#ax_1.legend(['true value', 'prediction'])\n",
    "\n",
    "#ax_2.plot(err_plot)\n",
    "#ax_2.set(xlabel='index', ylabel='error');"
   ]
  },
  {
   "cell_type": "markdown",
   "metadata": {},
   "source": [
    "## Latency distribution\n"
   ]
  },
  {
   "cell_type": "code",
   "execution_count": 4,
   "metadata": {},
   "outputs": [
    {
     "name": "stdout",
     "output_type": "stream",
     "text": [
      "Max: 11525.16 us\n",
      "Min: 55.79 us\n",
      "Mean: 76.68 us\n",
      "Median: 66.94 us\n"
     ]
    }
   ],
   "source": [
    "print(f'Max: {np.max(rt_times_us):.2f} us')\n",
    "print(f'Min: {np.min(rt_times_us):.2f} us')\n",
    "print(f'Mean: {np.mean(rt_times_us):.2f} us')\n",
    "print(f'Median: {np.median(rt_times_us):.2f} us')"
   ]
  },
  {
   "cell_type": "markdown",
   "metadata": {},
   "source": [
    "### Full distribution"
   ]
  },
  {
   "cell_type": "code",
   "execution_count": 5,
   "metadata": {},
   "outputs": [
    {
     "data": {
      "image/png": "[encoded data removed]",
      "text/plain": [
       "<Figure size 432x288 with 1 Axes>"
      ]
     },
     "metadata": {
      "needs_background": "light"
     },
     "output_type": "display_data"
    }
   ],
   "source": [
    "fig, ax = plt.subplots()\n",
    "ax.hist(rt_times_us, bins=500)\n",
    "ax.set(xlabel='latency (microseconds)', ylabel='count')\n",
    "ax.set_title('Round-trip latency');"
   ]
  },
  {
   "cell_type": "markdown",
   "metadata": {},
   "source": [
    "### Distribution with outliers removed"
   ]
  },
  {
   "cell_type": "code",
   "execution_count": 6,
   "metadata": {},
   "outputs": [
    {
     "data": {
      "image/png": "[encoded data removed]",
      "text/plain": [
       "<Figure size 432x288 with 1 Axes>"
      ]
     },
     "metadata": {
      "needs_background": "light"
     },
     "output_type": "display_data"
    }
   ],
   "source": [
    "# Max. value for histogram (all larger values will be excluded)\n",
    "hist_min = 50\n",
    "hist_max = 200\n",
    "\n",
    "fig, ax = plt.subplots()\n",
    "ax.hist(rt_times_us, bins=range(hist_min, hist_max))\n",
    "ax.set(xlabel='latency (microseconds)', ylabel='count')\n",
    "ax.set_title('Round-trip latency (outliers removed)');"
   ]
  },
  {
   "cell_type": "code",
   "execution_count": 7,
   "metadata": {},
   "outputs": [
    {
     "name": "stdout",
     "output_type": "stream",
     "text": [
      "Percent missing from histogram: 0.9471\n"
     ]
    }
   ],
   "source": [
    "idx_missing = (rt_times_us < hist_min) | (rt_times_us > hist_max) \n",
    "pct_missing = np.count_nonzero(idx_missing) / rt_times_us.shape[0] * 100\n",
    "print(f'Percent missing from histogram: {pct_missing:.4f}')"
   ]
  }
 ],
 "metadata": {
  "kernelspec": {
   "display_name": "Python 3",
   "language": "python",
   "name": "python3"
  },
  "language_info": {
   "codemirror_mode": {
    "name": "ipython",
    "version": 3
   },
   "file_extension": ".py",
   "mimetype": "text/x-python",
   "name": "python",
   "nbconvert_exporter": "python",
   "pygments_lexer": "ipython3",
   "version": "3.8.5"
  }
 },
 "nbformat": 4,
 "nbformat_minor": 4
}
